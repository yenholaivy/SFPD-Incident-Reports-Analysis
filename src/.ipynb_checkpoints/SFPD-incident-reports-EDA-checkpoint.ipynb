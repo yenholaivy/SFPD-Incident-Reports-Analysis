{
 "cells": [
  {
   "cell_type": "code",
   "execution_count": 1,
   "metadata": {},
   "outputs": [],
   "source": [
    "import pandas as pd\n",
    "import matplotlib.pyplot as plt\n",
    "%matplotlib inline"
   ]
  },
  {
   "cell_type": "code",
   "execution_count": 24,
   "metadata": {},
   "outputs": [],
   "source": [
    "import numpy as np"
   ]
  },
  {
   "cell_type": "code",
   "execution_count": 3,
   "metadata": {},
   "outputs": [],
   "source": [
    "#The file is stored locally\n",
    "filepath = '/Users/ivylai/Desktop/Galvanize/W04/Police_Department_Incident_Reports__2018_to_Present.csv'"
   ]
  },
  {
   "cell_type": "code",
   "execution_count": 5,
   "metadata": {},
   "outputs": [],
   "source": [
    "data = pd.read_csv(filepath)"
   ]
  },
  {
   "cell_type": "code",
   "execution_count": 7,
   "metadata": {},
   "outputs": [
    {
     "name": "stdout",
     "output_type": "stream",
     "text": [
      "<class 'pandas.core.frame.DataFrame'>\n",
      "RangeIndex: 436393 entries, 0 to 436392\n",
      "Data columns (total 36 columns):\n",
      " #   Column                                                Non-Null Count   Dtype  \n",
      "---  ------                                                --------------   -----  \n",
      " 0   Incident Datetime                                     436393 non-null  object \n",
      " 1   Incident Date                                         436393 non-null  object \n",
      " 2   Incident Time                                         436393 non-null  object \n",
      " 3   Incident Year                                         436393 non-null  int64  \n",
      " 4   Incident Day of Week                                  436393 non-null  object \n",
      " 5   Report Datetime                                       436393 non-null  object \n",
      " 6   Row ID                                                436393 non-null  int64  \n",
      " 7   Incident ID                                           436393 non-null  int64  \n",
      " 8   Incident Number                                       436393 non-null  int64  \n",
      " 9   CAD Number                                            340760 non-null  float64\n",
      " 10  Report Type Code                                      436393 non-null  object \n",
      " 11  Report Type Description                               436393 non-null  object \n",
      " 12  Filed Online                                          87650 non-null   object \n",
      " 13  Incident Code                                         436393 non-null  int64  \n",
      " 14  Incident Category                                     436045 non-null  object \n",
      " 15  Incident Subcategory                                  436045 non-null  object \n",
      " 16  Incident Description                                  436393 non-null  object \n",
      " 17  Resolution                                            436393 non-null  object \n",
      " 18  Intersection                                          414284 non-null  object \n",
      " 19  CNN                                                   414284 non-null  float64\n",
      " 20  Police District                                       436393 non-null  object \n",
      " 21  Analysis Neighborhood                                 414189 non-null  object \n",
      " 22  Supervisor District                                   414284 non-null  float64\n",
      " 23  Latitude                                              414284 non-null  float64\n",
      " 24  Longitude                                             414284 non-null  float64\n",
      " 25  point                                                 414284 non-null  object \n",
      " 26  SF Find Neighborhoods                                 405339 non-null  float64\n",
      " 27  Current Police Districts                              413709 non-null  float64\n",
      " 28  Current Supervisor Districts                          414204 non-null  float64\n",
      " 29  Analysis Neighborhoods                                414109 non-null  float64\n",
      " 30  HSOC Zones as of 2018-06-05                           94753 non-null   float64\n",
      " 31  OWED Public Spaces                                    20242 non-null   float64\n",
      " 32  Central Market/Tenderloin Boundary Polygon - Updated  57052 non-null   float64\n",
      " 33  Parks Alliance CPSI (27+TL sites)                     4789 non-null    float64\n",
      " 34  ESNCAG - Boundary File                                4666 non-null    float64\n",
      " 35  Areas of Vulnerability, 2016                          414109 non-null  float64\n",
      "dtypes: float64(15), int64(5), object(16)\n",
      "memory usage: 119.9+ MB\n"
     ]
    }
   ],
   "source": [
    "data.info()"
   ]
  },
  {
   "cell_type": "code",
   "execution_count": 55,
   "metadata": {},
   "outputs": [
    {
     "data": {
      "text/plain": [
       "0.08"
      ]
     },
     "execution_count": 55,
     "metadata": {},
     "output_type": "execute_result"
    }
   ],
   "source": [
    "round((1 - 436045/436393) * 100, 2)"
   ]
  },
  {
   "cell_type": "markdown",
   "metadata": {},
   "source": [
    "By looking at the datafame info, all entries have 'Incident Datetime', 'Incident Date', 'Incident Time', 'Incident'Year', 'Incident Day of Week', 'Report Datetime', 'Incident Description'."
   ]
  },
  {
   "cell_type": "code",
   "execution_count": 17,
   "metadata": {},
   "outputs": [],
   "source": [
    "data_sorted = data.sort_values(by = 'Incident Datetime')\n",
    "#Data include incidents from 2018/01/01 to 2021/02/20"
   ]
  },
  {
   "cell_type": "code",
   "execution_count": 21,
   "metadata": {},
   "outputs": [
    {
     "data": {
      "text/plain": [
       "Incident Datetime                                                                  2018/01/01 01:00:00 AM\n",
       "Incident Date                                                                                  2018/01/01\n",
       "Incident Time                                                                                       01:00\n",
       "Incident Year                                                                                        2018\n",
       "Incident Day of Week                                                                               Monday\n",
       "Report Datetime                                                                    2018/01/03 12:58:00 PM\n",
       "Row ID                                                                                        61977304033\n",
       "Incident ID                                                                                        619773\n",
       "Incident Number                                                                                 180006578\n",
       "CAD Number                                                                                    1.80032e+08\n",
       "Report Type Code                                                                                       II\n",
       "Report Type Description                                                                           Initial\n",
       "Filed Online                                                                                          NaN\n",
       "Incident Code                                                                                        4033\n",
       "Incident Category                                                                                 Assault\n",
       "Incident Subcategory                                                                   Aggravated Assault\n",
       "Incident Description                                    Assault, W/ Caustic Chemical to Injure or Disf...\n",
       "Resolution                                                                                 Open or Active\n",
       "Intersection                                                                        CHURCH ST \\ MARKET ST\n",
       "CNN                                                                                            2.5881e+07\n",
       "Police District                                                                                   Mission\n",
       "Analysis Neighborhood                                                                 Castro/Upper Market\n",
       "Supervisor District                                                                                     8\n",
       "Latitude                                                                                          37.7675\n",
       "Longitude                                                                                        -122.429\n",
       "point                                                            (37.76750445867602, -122.42894856756236)\n",
       "SF Find Neighborhoods                                                                                  28\n",
       "Current Police Districts                                                                                3\n",
       "Current Supervisor Districts                                                                            5\n",
       "Analysis Neighborhoods                                                                                  5\n",
       "HSOC Zones as of 2018-06-05                                                                             5\n",
       "OWED Public Spaces                                                                                    NaN\n",
       "Central Market/Tenderloin Boundary Polygon - Updated                                                  NaN\n",
       "Parks Alliance CPSI (27+TL sites)                                                                     NaN\n",
       "ESNCAG - Boundary File                                                                                NaN\n",
       "Areas of Vulnerability, 2016                                                                            1\n",
       "Name: 33215, dtype: object"
      ]
     },
     "execution_count": 21,
     "metadata": {},
     "output_type": "execute_result"
    }
   ],
   "source": [
    "data_sorted.iloc[1]"
   ]
  },
  {
   "cell_type": "code",
   "execution_count": 40,
   "metadata": {},
   "outputs": [
    {
     "data": {
      "text/plain": [
       "Public Health Order Violation, Notification                                             155\n",
       "Driving, Stunt Vehicle/Street Racing                                                     46\n",
       "Public Health Order Violation, After Notification                                        46\n",
       "Driving, Sideshow/Street Racing                                                          36\n",
       "Service of Documents Related to a Civil Drug Abatement and/or Public Nuisance Action     13\n",
       "Sexual Assault, Aggravated, of Child                                                     11\n",
       "Military Ordinance                                                                       10\n",
       "Theft, Boat                                                                               9\n",
       "Gun Violence Restraining Order                                                            7\n",
       "Auto Impounded                                                                            6\n",
       "Procurement, Pimping, & Pandering                                                         2\n",
       "Pyrotechnic Explosive Device - Barrel Bomb                                                2\n",
       "Gun Violence Restraining Order Violation                                                  1\n",
       "Crimes Involving Receipts or Titles                                                       1\n",
       "Theft, Animal, Att.                                                                       1\n",
       "Cloned Cellular Phone, Use                                                                1\n",
       "Assault, Commission of While Armed                                                        1\n",
       "Name: Incident Description, dtype: int64"
      ]
     },
     "execution_count": 40,
     "metadata": {},
     "output_type": "execute_result"
    }
   ],
   "source": [
    "data[data['Incident Category'].isnull()]['Incident Description'].value_counts()"
   ]
  },
  {
   "cell_type": "code",
   "execution_count": 42,
   "metadata": {},
   "outputs": [
    {
     "data": {
      "text/plain": [
       "Initial               289\n",
       "Initial Supplement     51\n",
       "Vehicle Initial         7\n",
       "Vehicle Supplement      1\n",
       "Name: Report Type Description, dtype: int64"
      ]
     },
     "execution_count": 42,
     "metadata": {},
     "output_type": "execute_result"
    }
   ],
   "source": [
    "data[data['Incident Category'].isnull()]['Report Type Description'].value_counts()"
   ]
  },
  {
   "cell_type": "code",
   "execution_count": 43,
   "metadata": {},
   "outputs": [
    {
     "data": {
      "text/plain": [
       "Initial                271146\n",
       "Coplogic Initial        77691\n",
       "Initial Supplement      36325\n",
       "Vehicle Initial         24395\n",
       "Vehicle Supplement      16877\n",
       "Coplogic Supplement      9959\n",
       "Name: Report Type Description, dtype: int64"
      ]
     },
     "execution_count": 43,
     "metadata": {},
     "output_type": "execute_result"
    }
   ],
   "source": [
    "data['Report Type Description'].value_counts()"
   ]
  },
  {
   "cell_type": "code",
   "execution_count": 69,
   "metadata": {},
   "outputs": [
    {
     "data": {
      "text/plain": [
       "pandas.core.series.Series"
      ]
     },
     "execution_count": 69,
     "metadata": {},
     "output_type": "execute_result"
    }
   ],
   "source": [
    "type(data['Incident Category'].value_counts())"
   ]
  },
  {
   "cell_type": "code",
   "execution_count": 75,
   "metadata": {},
   "outputs": [],
   "source": [
    "incident_category = data['Incident Category'].value_counts().index.to_numpy()"
   ]
  },
  {
   "cell_type": "code",
   "execution_count": 76,
   "metadata": {},
   "outputs": [],
   "source": [
    "incident_category_count = data['Incident Category'].value_counts().to_numpy()"
   ]
  },
  {
   "cell_type": "code",
   "execution_count": 77,
   "metadata": {},
   "outputs": [
    {
     "name": "stdout",
     "output_type": "stream",
     "text": [
      "51\n",
      "51\n"
     ]
    }
   ],
   "source": [
    "print(len(incident_category))\n",
    "print(len(incident_category_count))"
   ]
  },
  {
   "cell_type": "code",
   "execution_count": 81,
   "metadata": {},
   "outputs": [
    {
     "data": {
      "text/plain": [
       "<matplotlib.legend.Legend at 0x7fae79ecc190>"
      ]
     },
     "execution_count": 81,
     "metadata": {},
     "output_type": "execute_result"
    },
    {
     "data": {
      "image/png": "[encoded data removed]",
      "text/plain": [
       "<Figure size 432x288 with 1 Axes>"
      ]
     },
     "metadata": {},
     "output_type": "display_data"
    }
   ],
   "source": [
    "patches, texts = plt.pie(incident_category_count)\n",
    "labels = incident_category\n",
    "\n",
    "sort_legend = True\n",
    "if sort_legend:\n",
    "    patches, labels, dummy =  zip(*sorted(zip(patches, labels, incident_category_count),\n",
    "                                          key=lambda x: x[2],\n",
    "                                          reverse=True))\n",
    "\n",
    "plt.legend(patches, labels, loc='upper left', bbox_to_anchor=(-0.1, 1.),\n",
    "           fontsize=8)\n"
   ]
  },
  {
   "cell_type": "code",
   "execution_count": null,
   "metadata": {},
   "outputs": [],
   "source": [
    "fig = plt.figure(figsize=[10, 10])\n",
    "ax = fig.add_subplot(111)\n",
    "\n",
    "angle = 180 + float(sum(small[::2])) / sum(reordered) * 360\n",
    "\n",
    "pie_wedge_collection = ax.pie(reordered, colors=colors, labels=labels, labeldistance=1.05, startangle=angle);\n",
    "\n",
    "for pie_wedge in pie_wedge_collection[0]:\n",
    "    pie_wedge.set_edgecolor('white')\n",
    "\n",
    "ax.set_title(\"Figure 5\");"
   ]
  },
  {
   "cell_type": "code",
   "execution_count": null,
   "metadata": {},
   "outputs": [],
   "source": []
  },
  {
   "cell_type": "code",
   "execution_count": 45,
   "metadata": {},
   "outputs": [],
   "source": [
    "data_categories = data.groupby('Incident Category')"
   ]
  },
  {
   "cell_type": "code",
   "execution_count": 49,
   "metadata": {},
   "outputs": [
    {
     "name": "stdout",
     "output_type": "stream",
     "text": [
      "Indicent Category: Arson\n",
      "Arson    1176\n",
      "Name: Incident Subcategory, dtype: int64\n",
      " \n",
      "Indicent Category: Assault\n",
      "Simple Assault        16248\n",
      "Aggravated Assault     9546\n",
      "Name: Incident Subcategory, dtype: int64\n",
      " \n",
      "Indicent Category: Burglary\n",
      "Burglary - Other          9836\n",
      "Burglary - Residential    7958\n",
      "Burglary - Commercial     3076\n",
      "Burglary - Hot Prowl      2868\n",
      "Name: Incident Subcategory, dtype: int64\n",
      " \n",
      "Indicent Category: Case Closure\n",
      "Case Closure    1937\n",
      "Name: Incident Subcategory, dtype: int64\n",
      " \n",
      "Indicent Category: Civil Sidewalks\n",
      "Other    861\n",
      "Name: Incident Subcategory, dtype: int64\n",
      " \n",
      "Indicent Category: Courtesy Report\n",
      "Courtesy Report    1254\n",
      "Name: Incident Subcategory, dtype: int64\n",
      " \n",
      "Indicent Category: Disorderly Conduct\n",
      "Intimidation          4617\n",
      "Disorderly Conduct    1218\n",
      "Other                  755\n",
      "Drunkenness            691\n",
      "Loitering               71\n",
      "Drug Violation          46\n",
      "Weapons Offense         15\n",
      "Trespass                 8\n",
      "Name: Incident Subcategory, dtype: int64\n",
      " \n",
      "Indicent Category: Drug Offense\n",
      "Drug Violation    10755\n",
      "Name: Incident Subcategory, dtype: int64\n",
      " \n",
      "Indicent Category: Drug Violation\n",
      "Drug Violation    142\n",
      "Name: Incident Subcategory, dtype: int64\n",
      " \n",
      "Indicent Category: Embezzlement\n",
      "Embezzlement    600\n",
      "Name: Incident Subcategory, dtype: int64\n",
      " \n",
      "Indicent Category: Family Offense\n",
      "Child Abuse    546\n",
      "Name: Incident Subcategory, dtype: int64\n",
      " \n",
      "Indicent Category: Fire Report\n",
      "Fire Report    529\n",
      "Name: Incident Subcategory, dtype: int64\n",
      " \n",
      "Indicent Category: Forgery And Counterfeiting\n",
      "Forgery And Counterfeiting    1779\n",
      "Name: Incident Subcategory, dtype: int64\n",
      " \n",
      "Indicent Category: Fraud\n",
      "Fraud         12975\n",
      "Bad Checks       36\n",
      "Name: Incident Subcategory, dtype: int64\n",
      " \n",
      "Indicent Category: Gambling\n",
      "Gambling    22\n",
      "Name: Incident Subcategory, dtype: int64\n",
      " \n",
      "Indicent Category: Homicide\n",
      "Manslaughter    30\n",
      "Homicide        23\n",
      "Name: Incident Subcategory, dtype: int64\n",
      " \n",
      "Indicent Category: Human Trafficking (A), Commercial Sex Acts\n",
      "Human Trafficking, Commercial Sex Acts        107\n",
      "Human Trafficking (A), Commercial Sex Acts      1\n",
      "Name: Incident Subcategory, dtype: int64\n",
      " \n",
      "Indicent Category: Human Trafficking (B), Involuntary Servitude\n",
      "Human Trafficking, Involuntary Servitude    1\n",
      "Name: Incident Subcategory, dtype: int64\n",
      " \n",
      "Indicent Category: Human Trafficking, Commercial Sex Acts\n",
      "Human Trafficking, Commercial Sex Acts    17\n",
      "Name: Incident Subcategory, dtype: int64\n",
      " \n",
      "Indicent Category: Juvenile Offenses\n",
      "Other    1\n",
      "Name: Incident Subcategory, dtype: int64\n",
      " \n",
      "Indicent Category: Larceny Theft\n",
      "Larceny - From Vehicle           73844\n",
      "Larceny Theft - Other            32443\n",
      "Larceny Theft - From Building     7999\n",
      "Larceny Theft - Shoplifting       7313\n",
      "Theft From Vehicle                5554\n",
      "Larceny Theft - Pickpocket        1728\n",
      "Larceny Theft - Bicycle           1654\n",
      "Larceny - Auto Parts               696\n",
      "Larceny Theft - Purse Snatch        85\n",
      "Name: Incident Subcategory, dtype: int64\n",
      " \n",
      "Indicent Category: Liquor Laws\n",
      "Liquor Law Violation    73\n",
      "Name: Incident Subcategory, dtype: int64\n",
      " \n",
      "Indicent Category: Lost Property\n",
      "Lost Property    13868\n",
      "Name: Incident Subcategory, dtype: int64\n",
      " \n",
      "Indicent Category: Malicious Mischief\n",
      "Vandalism    26668\n",
      "Other         1162\n",
      "Name: Incident Subcategory, dtype: int64\n",
      " \n",
      "Indicent Category: Miscellaneous Investigation\n",
      "Miscellaneous Investigation    3995\n",
      "Other                             8\n",
      "Name: Incident Subcategory, dtype: int64\n",
      " \n",
      "Indicent Category: Missing Person\n",
      "Missing Person    5011\n",
      "Missing Adult     4780\n",
      "Name: Incident Subcategory, dtype: int64\n",
      " \n",
      "Indicent Category: Motor Vehicle Theft\n",
      "Motor Vehicle Theft                19157\n",
      "Motor Vehicle Theft (Attempted)      213\n",
      "Name: Incident Subcategory, dtype: int64\n",
      " \n",
      "Indicent Category: Motor Vehicle Theft?\n",
      "Motor Vehicle Theft    58\n",
      "Name: Incident Subcategory, dtype: int64\n",
      " \n",
      "Indicent Category: Non-Criminal\n",
      "Non-Criminal    14598\n",
      "Other           11882\n",
      "Name: Incident Subcategory, dtype: int64\n",
      " \n",
      "Indicent Category: Offences Against The Family And Children\n",
      "Other              5806\n",
      "Family Offenses    2600\n",
      "Stalking            177\n",
      "Drug Violation       62\n",
      "Intimidation          7\n",
      "Loitering             5\n",
      "Name: Incident Subcategory, dtype: int64\n",
      " \n",
      "Indicent Category: Other\n",
      "Other    3383\n",
      "Name: Incident Subcategory, dtype: int64\n",
      " \n",
      "Indicent Category: Other Miscellaneous\n",
      "Other                    24951\n",
      "Trespass                  4124\n",
      "Fraud                      823\n",
      "Loitering                  707\n",
      "Kidnapping                 432\n",
      "Intimidation               393\n",
      "Liquor Law Violation       284\n",
      "Extortion-Blackmail        176\n",
      "Suspicious Occ             155\n",
      "Disorderly Conduct          80\n",
      "Weapons Offense             35\n",
      "Bribery                      5\n",
      "Arrest                       3\n",
      "Larceny Theft - Other        2\n",
      "Simple Assault               1\n",
      "Name: Incident Subcategory, dtype: int64\n",
      " \n",
      "Indicent Category: Other Offenses\n",
      "Other Offenses    2158\n",
      "Other             1523\n",
      "Name: Incident Subcategory, dtype: int64\n",
      " \n",
      "Indicent Category: Prostitution\n",
      "Prostitution    827\n",
      "Name: Incident Subcategory, dtype: int64\n",
      " \n",
      "Indicent Category: Rape\n",
      "Rape                74\n",
      "Rape - Attempted    36\n",
      "Name: Incident Subcategory, dtype: int64\n",
      " \n",
      "Indicent Category: Recovered Vehicle\n",
      "Recovered Vehicle    15187\n",
      "Name: Incident Subcategory, dtype: int64\n",
      " \n",
      "Indicent Category: Robbery\n",
      "Robbery - Other          5055\n",
      "Robbery - Commercial     2570\n",
      "Robbery - Street         2180\n",
      "Robbery - Carjacking      413\n",
      "Robbery - Residential      17\n",
      "Name: Incident Subcategory, dtype: int64\n",
      " \n",
      "Indicent Category: Sex Offense\n",
      "Child Abuse           712\n",
      "Sex Offense           538\n",
      "Sex Offense, Child     67\n",
      "Prostitution            2\n",
      "Name: Incident Subcategory, dtype: int64\n",
      " \n",
      "Indicent Category: Stolen Property\n",
      "Stolen Property    2279\n",
      "Name: Incident Subcategory, dtype: int64\n",
      " \n",
      "Indicent Category: Suicide\n",
      "Suicide    189\n",
      "Name: Incident Subcategory, dtype: int64\n",
      " \n",
      "Indicent Category: Suspicious\n",
      "Suspicious Package    77\n",
      "Name: Incident Subcategory, dtype: int64\n",
      " \n",
      "Indicent Category: Suspicious Occ\n",
      "Suspicious Occ    8468\n",
      "Name: Incident Subcategory, dtype: int64\n",
      " \n",
      "Indicent Category: Traffic Collision\n",
      "Traffic Collision - Hit & Run    460\n",
      "Traffic Collision                405\n",
      "Name: Incident Subcategory, dtype: int64\n",
      " \n",
      "Indicent Category: Traffic Violation Arrest\n",
      "Traffic Violation Arrest    5187\n",
      "Name: Incident Subcategory, dtype: int64\n",
      " \n",
      "Indicent Category: Vandalism\n",
      "Vandalism    758\n",
      "Name: Incident Subcategory, dtype: int64\n",
      " \n",
      "Indicent Category: Vehicle Impounded\n",
      "Vehicle Impounded    313\n",
      "Name: Incident Subcategory, dtype: int64\n",
      " \n",
      "Indicent Category: Vehicle Misplaced\n",
      "Vehicle Misplaced    180\n",
      "Name: Incident Subcategory, dtype: int64\n",
      " \n",
      "Indicent Category: Warrant\n",
      "Other      7950\n",
      "Warrant    6664\n",
      "Name: Incident Subcategory, dtype: int64\n",
      " \n",
      "Indicent Category: Weapons Carrying Etc\n",
      "Weapons Offense    2398\n",
      "Name: Incident Subcategory, dtype: int64\n",
      " \n",
      "Indicent Category: Weapons Offence\n",
      "Weapons Offense    18\n",
      "Name: Incident Subcategory, dtype: int64\n",
      " \n",
      "Indicent Category: Weapons Offense\n",
      "Weapons Offense    2595\n",
      "Name: Incident Subcategory, dtype: int64\n",
      " \n"
     ]
    }
   ],
   "source": [
    "for category_name, category_data in data_categories:\n",
    "    print(f'Indicent Category: {category_name}')\n",
    "    print(category_data['Incident Subcategory'].value_counts())\n",
    "    print(' ')"
   ]
  },
  {
   "cell_type": "code",
   "execution_count": 52,
   "metadata": {},
   "outputs": [
    {
     "data": {
      "text/plain": [
       "Theft, From Locked Vehicle, >$950          54017\n",
       "Theft, From Unlocked Vehicle, >$950         7711\n",
       "Theft, From Locked Vehicle, $200-$950       6238\n",
       "Theft, From Locked Vehicle, $50-$200        2147\n",
       "Theft, From Locked Vehicle, <$50            1246\n",
       "Theft, From Unlocked Vehicle, $200-$950      801\n",
       "Theft, From Locked Vehicle, Att.             784\n",
       "Theft, From Unlocked Vehicle, $50-$200       443\n",
       "Theft, From Unlocked Vehicle, <$50           397\n",
       "Theft, From Unlocked Vehicle, Att.            60\n",
       "Name: Incident Description, dtype: int64"
      ]
     },
     "execution_count": 52,
     "metadata": {},
     "output_type": "execute_result"
    }
   ],
   "source": [
    "data[data['Incident Subcategory'] == 'Larceny - From Vehicle']['Incident Description'].value_counts()"
   ]
  },
  {
   "cell_type": "code",
   "execution_count": null,
   "metadata": {},
   "outputs": [],
   "source": []
  }
 ],
 "metadata": {
  "kernelspec": {
   "display_name": "Python 3",
   "language": "python",
   "name": "python3"
  },
  "language_info": {
   "codemirror_mode": {
    "name": "ipython",
    "version": 3
   },
   "file_extension": ".py",
   "mimetype": "text/x-python",
   "name": "python",
   "nbconvert_exporter": "python",
   "pygments_lexer": "ipython3",
   "version": "3.8.5"
  }
 },
 "nbformat": 4,
 "nbformat_minor": 4
}
